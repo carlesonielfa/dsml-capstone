{
 "cells": [
  {
   "cell_type": "code",
   "execution_count": 3,
   "id": "b9758275",
   "metadata": {},
   "outputs": [],
   "source": [
    "import numpy as np\n",
    "import pandas as pd\n",
    "from sklearn.base import BaseEstimator, TransformerMixin\n",
    "from sklearn.compose import ColumnTransformer\n",
    "from sklearn.preprocessing import OneHotEncoder\n",
    "from sklearn.preprocessing import StandardScaler"
   ]
  },
  {
   "cell_type": "markdown",
   "id": "ce875dd4",
   "metadata": {},
   "source": [
    "Open the raw data ready to be used to train"
   ]
  },
  {
   "cell_type": "code",
   "execution_count": 4,
   "id": "457a5584",
   "metadata": {},
   "outputs": [],
   "source": [
    "prediction_raw_data = pd.read_parquet(\"../data/prediction_raw_data.parquet\")\n",
    "\n",
    "pl_cat_coords = (41.386949, 2.170080)\n",
    "\n",
    "prediction_raw_data[\"pl_distance\"] = prediction_raw_data.apply(\n",
    "    lambda x: np.sqrt((x[\"lat\"] - pl_cat_coords[0])**2 + (x[\"lon\"] - pl_cat_coords[1])**2), axis=1\n",
    ")"
   ]
  },
  {
   "cell_type": "code",
   "execution_count": 5,
   "id": "bb3644a5",
   "metadata": {},
   "outputs": [],
   "source": [
    "def capacity_category(df):\n",
    "    df = df.copy()\n",
    "    conditions = [\n",
    "        (df['capacity'] < 20),\n",
    "        (df['capacity'] >=20) & (df['capacity'] < 25),\n",
    "        (df['capacity'] >= 25) & (df['capacity'] < 30),\n",
    "        (df['capacity'] >= 30) & (df['capacity'] < 40),\n",
    "        (df['capacity'] >= 40)]\n",
    "\n",
    "    choices = ['<20', '20-25', '25-30', '30-40', '>40']\n",
    "\n",
    "\n",
    "    df['capacity_category'] = np.select(conditions, choices)\n",
    "    \n",
    "    return df\n",
    "    "
   ]
  },
  {
   "cell_type": "code",
   "execution_count": 6,
   "id": "f4a2a472",
   "metadata": {},
   "outputs": [],
   "source": [
    "prediction_raw_data = capacity_category(prediction_raw_data)"
   ]
  },
  {
   "cell_type": "markdown",
   "id": "49c95a4a",
   "metadata": {},
   "source": [
    "These csvs are to add the metadata to the stations/days of the test set"
   ]
  },
  {
   "cell_type": "code",
   "execution_count": 7,
   "id": "c2dcfa8c",
   "metadata": {},
   "outputs": [],
   "source": [
    "metadata = pd.read_csv(\"../data/metadata_sample_submission.csv\", index_col=[0])\n",
    "bank_holidays_bcn = pd.read_csv(\"../data/bank_holidays_bcn.csv\", index_col=[0], parse_dates=[\"holiday_date\"])\n",
    "station_information = pd.read_csv(\"../data/station_information.csv\")\n",
    "meteo_data = pd.read_csv(\"../data/valores_booleanos_meteo.csv\")"
   ]
  },
  {
   "cell_type": "code",
   "execution_count": 8,
   "id": "8e1d5587",
   "metadata": {},
   "outputs": [],
   "source": [
    "station_information[\"pl_distance\"] = station_information.apply(\n",
    "    lambda x: np.sqrt((x[\"lat\"] - pl_cat_coords[0])**2 + (x[\"lon\"] - pl_cat_coords[1])**2), axis=1\n",
    ")"
   ]
  },
  {
   "cell_type": "code",
   "execution_count": 9,
   "id": "cbe5c964",
   "metadata": {},
   "outputs": [],
   "source": [
    "meteo_data['datetime'] = pd.to_datetime(meteo_data['data']).dt.strftime('%Y-%m-%d %H:%M:%S')\n",
    "meteo_data['datetime'] = pd.to_datetime(meteo_data['datetime'])\n",
    "meteo_data.drop(columns=\"data\", inplace=True)"
   ]
  },
  {
   "cell_type": "code",
   "execution_count": 10,
   "id": "55f8d3db",
   "metadata": {},
   "outputs": [],
   "source": [
    "# create year column\n",
    "metadata[\"year\"]=2024\n",
    "# transform station_id to int\n",
    "metadata[\"station_id\"]=metadata[\"station_id\"].astype(str)\n",
    "\n",
    "metadata[\"date\"]= pd.to_datetime(metadata[[\"year\",\"month\",\"day\"]])\n",
    "metadata[\"datetime\"]= pd.to_datetime(metadata[[\"year\",\"month\",\"day\",\"hour\"]])"
   ]
  },
  {
   "cell_type": "code",
   "execution_count": 11,
   "id": "cf9c945d",
   "metadata": {},
   "outputs": [],
   "source": [
    "metadata[\"is_holidays\"] = metadata[\"date\"].isin(bank_holidays_bcn[\"holiday_date\"])"
   ]
  },
  {
   "cell_type": "code",
   "execution_count": 12,
   "id": "52b6dfe4",
   "metadata": {},
   "outputs": [],
   "source": [
    "station_information[\"station_id\"] = station_information[\"station_id\"].astype(str)\n",
    "metadata =metadata.merge(station_information[[\"station_id\",\"pl_distance\",\"altitude\", \"lat\", \"lon\", \"post_code\",\"capacity\"]], on =\"station_id\", how=\"left\")"
   ]
  },
  {
   "cell_type": "code",
   "execution_count": 13,
   "id": "fba00702",
   "metadata": {},
   "outputs": [],
   "source": [
    "metadata = metadata.merge(meteo_data[[\"datetime\",\"calor\",\"lluvia\",\"dia\"]], on=\"datetime\", how=\"left\")"
   ]
  },
  {
   "cell_type": "code",
   "execution_count": 14,
   "id": "feadba3d",
   "metadata": {},
   "outputs": [],
   "source": [
    "metadata[\"calor\"] = metadata[\"calor\"].fillna(0).astype(bool)\n",
    "metadata[\"lluvia\"] = metadata[\"lluvia\"].fillna(0).astype(bool)\n",
    "metadata[\"dia\"] = metadata[\"dia\"].fillna(0).astype(bool)"
   ]
  },
  {
   "cell_type": "code",
   "execution_count": 15,
   "id": "f10af895",
   "metadata": {},
   "outputs": [],
   "source": [
    "metadata = capacity_category(metadata)"
   ]
  },
  {
   "cell_type": "markdown",
   "id": "ca0dd886",
   "metadata": {},
   "source": [
    "## Train"
   ]
  },
  {
   "cell_type": "code",
   "execution_count": 16,
   "id": "6d59d085",
   "metadata": {},
   "outputs": [
    {
     "name": "stderr",
     "output_type": "stream",
     "text": [
      "100%|██████████████████████████████████████████████████████████████████████████████████████| 399/399 [05:54<00:00,  1.13it/s]\n"
     ]
    }
   ],
   "source": [
    "from tqdm import tqdm\n",
    "prediction_data = pd.DataFrame()\n",
    "for s in tqdm(prediction_raw_data.station_id.unique()):\n",
    "    ctx = prediction_raw_data.loc[prediction_raw_data[\"station_id\"] == s, :]\n",
    "    ctx = ctx.sort_values(by=[\"year\", \"month\", \"day\", \"hour\"],\n",
    "                              ignore_index=True)\n",
    "    for lag in range(1, 5):\n",
    "        ctx.loc[:, f\"ctx-{lag}\"] = ctx.loc[:, \"percentage_docks_available\"].shift(lag)\n",
    "\n",
    "    ctx = ctx.iloc[4::5]\n",
    "\n",
    "    prediction_data = pd.concat([prediction_data, ctx], ignore_index=True)"
   ]
  },
  {
   "cell_type": "code",
   "execution_count": 17,
   "id": "322072c4",
   "metadata": {},
   "outputs": [],
   "source": [
    "prediction_data.drop(columns=[\"datetime\",\"date\", \"num_docks_available\", \"capacity\",\"station_id\"], inplace=True)"
   ]
  },
  {
   "cell_type": "code",
   "execution_count": 18,
   "id": "5d4db2ed",
   "metadata": {},
   "outputs": [],
   "source": [
    "prediction_data[\"post_code\"]= prediction_data[\"post_code\"].astype(str)"
   ]
  },
  {
   "cell_type": "code",
   "execution_count": 19,
   "id": "77d7590f",
   "metadata": {},
   "outputs": [],
   "source": [
    "prediction_data.dropna(subset=[\"percentage_docks_available\"], inplace=True)"
   ]
  },
  {
   "cell_type": "code",
   "execution_count": 20,
   "id": "0594d201",
   "metadata": {},
   "outputs": [],
   "source": [
    "prediction_data.dropna(subset=[\"ctx-1\",\"ctx-2\", \"ctx-3\", \"ctx-4\"],how=\"all\", inplace=True)"
   ]
  },
  {
   "cell_type": "code",
   "execution_count": 21,
   "id": "ac97f65b",
   "metadata": {},
   "outputs": [],
   "source": [
    "train = prediction_data[(prediction_data[\"year\"]<=2023) & (prediction_data[\"month\"]<8)]\n",
    "validation= prediction_data[(prediction_data[\"year\"]==2023) & (prediction_data[\"month\"]>=8)]"
   ]
  },
  {
   "cell_type": "code",
   "execution_count": 23,
   "id": "6944d822",
   "metadata": {},
   "outputs": [],
   "source": [
    "x_train = train.drop(columns=\"percentage_docks_available\")\n",
    "y_train = train[[\"percentage_docks_available\"]]\n",
    "\n",
    "\n",
    "x_validation = validation.drop(columns=\"percentage_docks_available\")\n",
    "y_validation = validation[[\"percentage_docks_available\"]]\n",
    "\n",
    "# metadata=metadata[train.columns.drop([\"percentage_docks_available\"]).tolist()]\n",
    "# metadata[\"post_code\"]= metadata[\"post_code\"].astype(str)"
   ]
  },
  {
   "cell_type": "code",
   "execution_count": 24,
   "id": "0506e8e1",
   "metadata": {},
   "outputs": [],
   "source": [
    "class CyclicalEncoder(BaseEstimator, TransformerMixin):\n",
    "    \n",
    "    def __init__(self, max_val):\n",
    "        self.max_val = max_val\n",
    "        \n",
    "    def fit(self, X, y=None):\n",
    "        return self\n",
    "    \n",
    "    def transform(self, X):\n",
    "        X = X.copy()\n",
    "        for column in X.columns:\n",
    "            X[column + \"_sin\"] = np.sin(2 * np.pi * X[column] / self.max_val)\n",
    "            X[column + \"_cos\"] = np.cos(2 * np.pi * X[column] / self.max_val)\n",
    "            X.drop(columns=column, inplace=True)\n",
    "        return X\n"
   ]
  },
  {
   "cell_type": "code",
   "execution_count": 25,
   "id": "0fb3049e",
   "metadata": {},
   "outputs": [
    {
     "data": {
      "text/html": [
       "<div>\n",
       "<style scoped>\n",
       "    .dataframe tbody tr th:only-of-type {\n",
       "        vertical-align: middle;\n",
       "    }\n",
       "\n",
       "    .dataframe tbody tr th {\n",
       "        vertical-align: top;\n",
       "    }\n",
       "\n",
       "    .dataframe thead th {\n",
       "        text-align: right;\n",
       "    }\n",
       "</style>\n",
       "<table border=\"1\" class=\"dataframe\">\n",
       "  <thead>\n",
       "    <tr style=\"text-align: right;\">\n",
       "      <th></th>\n",
       "      <th>lat</th>\n",
       "      <th>lon</th>\n",
       "      <th>altitude</th>\n",
       "      <th>post_code</th>\n",
       "      <th>year</th>\n",
       "      <th>month</th>\n",
       "      <th>day</th>\n",
       "      <th>hour</th>\n",
       "      <th>is_holidays</th>\n",
       "      <th>calor</th>\n",
       "      <th>lluvia</th>\n",
       "      <th>dia</th>\n",
       "      <th>pl_distance</th>\n",
       "      <th>capacity_category</th>\n",
       "      <th>ctx-1</th>\n",
       "      <th>ctx-2</th>\n",
       "      <th>ctx-3</th>\n",
       "      <th>ctx-4</th>\n",
       "    </tr>\n",
       "  </thead>\n",
       "  <tbody>\n",
       "    <tr>\n",
       "      <th>0</th>\n",
       "      <td>41.397978</td>\n",
       "      <td>2.180107</td>\n",
       "      <td>16.0</td>\n",
       "      <td>8013</td>\n",
       "      <td>2020</td>\n",
       "      <td>1</td>\n",
       "      <td>1</td>\n",
       "      <td>4</td>\n",
       "      <td>True</td>\n",
       "      <td>False</td>\n",
       "      <td>False</td>\n",
       "      <td>False</td>\n",
       "      <td>0.014906</td>\n",
       "      <td>&gt;40</td>\n",
       "      <td>0.283333</td>\n",
       "      <td>0.346296</td>\n",
       "      <td>0.394444</td>\n",
       "      <td>0.459259</td>\n",
       "    </tr>\n",
       "    <tr>\n",
       "      <th>1</th>\n",
       "      <td>41.397978</td>\n",
       "      <td>2.180107</td>\n",
       "      <td>16.0</td>\n",
       "      <td>8013</td>\n",
       "      <td>2020</td>\n",
       "      <td>1</td>\n",
       "      <td>1</td>\n",
       "      <td>9</td>\n",
       "      <td>True</td>\n",
       "      <td>False</td>\n",
       "      <td>False</td>\n",
       "      <td>True</td>\n",
       "      <td>0.014906</td>\n",
       "      <td>&gt;40</td>\n",
       "      <td>0.248148</td>\n",
       "      <td>0.235185</td>\n",
       "      <td>0.233333</td>\n",
       "      <td>0.298148</td>\n",
       "    </tr>\n",
       "    <tr>\n",
       "      <th>2</th>\n",
       "      <td>41.397978</td>\n",
       "      <td>2.180107</td>\n",
       "      <td>16.0</td>\n",
       "      <td>8013</td>\n",
       "      <td>2020</td>\n",
       "      <td>1</td>\n",
       "      <td>1</td>\n",
       "      <td>14</td>\n",
       "      <td>True</td>\n",
       "      <td>False</td>\n",
       "      <td>False</td>\n",
       "      <td>True</td>\n",
       "      <td>0.014906</td>\n",
       "      <td>&gt;40</td>\n",
       "      <td>0.381481</td>\n",
       "      <td>0.385185</td>\n",
       "      <td>0.337037</td>\n",
       "      <td>0.342593</td>\n",
       "    </tr>\n",
       "    <tr>\n",
       "      <th>3</th>\n",
       "      <td>41.397978</td>\n",
       "      <td>2.180107</td>\n",
       "      <td>16.0</td>\n",
       "      <td>8013</td>\n",
       "      <td>2020</td>\n",
       "      <td>1</td>\n",
       "      <td>1</td>\n",
       "      <td>19</td>\n",
       "      <td>True</td>\n",
       "      <td>False</td>\n",
       "      <td>False</td>\n",
       "      <td>False</td>\n",
       "      <td>0.014906</td>\n",
       "      <td>&gt;40</td>\n",
       "      <td>0.079630</td>\n",
       "      <td>0.177778</td>\n",
       "      <td>0.211111</td>\n",
       "      <td>0.244444</td>\n",
       "    </tr>\n",
       "    <tr>\n",
       "      <th>4</th>\n",
       "      <td>41.397978</td>\n",
       "      <td>2.180107</td>\n",
       "      <td>16.0</td>\n",
       "      <td>8013</td>\n",
       "      <td>2020</td>\n",
       "      <td>1</td>\n",
       "      <td>2</td>\n",
       "      <td>0</td>\n",
       "      <td>False</td>\n",
       "      <td>False</td>\n",
       "      <td>False</td>\n",
       "      <td>False</td>\n",
       "      <td>0.014906</td>\n",
       "      <td>&gt;40</td>\n",
       "      <td>0.420370</td>\n",
       "      <td>0.450000</td>\n",
       "      <td>0.492593</td>\n",
       "      <td>0.418519</td>\n",
       "    </tr>\n",
       "    <tr>\n",
       "      <th>...</th>\n",
       "      <td>...</td>\n",
       "      <td>...</td>\n",
       "      <td>...</td>\n",
       "      <td>...</td>\n",
       "      <td>...</td>\n",
       "      <td>...</td>\n",
       "      <td>...</td>\n",
       "      <td>...</td>\n",
       "      <td>...</td>\n",
       "      <td>...</td>\n",
       "      <td>...</td>\n",
       "      <td>...</td>\n",
       "      <td>...</td>\n",
       "      <td>...</td>\n",
       "      <td>...</td>\n",
       "      <td>...</td>\n",
       "      <td>...</td>\n",
       "      <td>...</td>\n",
       "    </tr>\n",
       "    <tr>\n",
       "      <th>2796111</th>\n",
       "      <td>41.404862</td>\n",
       "      <td>2.174799</td>\n",
       "      <td>33.0</td>\n",
       "      <td>8025</td>\n",
       "      <td>2023</td>\n",
       "      <td>7</td>\n",
       "      <td>31</td>\n",
       "      <td>1</td>\n",
       "      <td>False</td>\n",
       "      <td>False</td>\n",
       "      <td>False</td>\n",
       "      <td>False</td>\n",
       "      <td>0.018524</td>\n",
       "      <td>&lt;20</td>\n",
       "      <td>0.555556</td>\n",
       "      <td>0.585859</td>\n",
       "      <td>0.606838</td>\n",
       "      <td>0.370370</td>\n",
       "    </tr>\n",
       "    <tr>\n",
       "      <th>2796112</th>\n",
       "      <td>41.404862</td>\n",
       "      <td>2.174799</td>\n",
       "      <td>33.0</td>\n",
       "      <td>8025</td>\n",
       "      <td>2023</td>\n",
       "      <td>7</td>\n",
       "      <td>31</td>\n",
       "      <td>6</td>\n",
       "      <td>False</td>\n",
       "      <td>False</td>\n",
       "      <td>False</td>\n",
       "      <td>True</td>\n",
       "      <td>0.018524</td>\n",
       "      <td>&lt;20</td>\n",
       "      <td>0.675926</td>\n",
       "      <td>0.657407</td>\n",
       "      <td>0.620370</td>\n",
       "      <td>0.611111</td>\n",
       "    </tr>\n",
       "    <tr>\n",
       "      <th>2796113</th>\n",
       "      <td>41.404862</td>\n",
       "      <td>2.174799</td>\n",
       "      <td>33.0</td>\n",
       "      <td>8025</td>\n",
       "      <td>2023</td>\n",
       "      <td>7</td>\n",
       "      <td>31</td>\n",
       "      <td>11</td>\n",
       "      <td>False</td>\n",
       "      <td>False</td>\n",
       "      <td>False</td>\n",
       "      <td>True</td>\n",
       "      <td>0.018524</td>\n",
       "      <td>&lt;20</td>\n",
       "      <td>0.509259</td>\n",
       "      <td>0.486111</td>\n",
       "      <td>0.513889</td>\n",
       "      <td>0.560185</td>\n",
       "    </tr>\n",
       "    <tr>\n",
       "      <th>2796114</th>\n",
       "      <td>41.404862</td>\n",
       "      <td>2.174799</td>\n",
       "      <td>33.0</td>\n",
       "      <td>8025</td>\n",
       "      <td>2023</td>\n",
       "      <td>7</td>\n",
       "      <td>31</td>\n",
       "      <td>16</td>\n",
       "      <td>False</td>\n",
       "      <td>False</td>\n",
       "      <td>False</td>\n",
       "      <td>True</td>\n",
       "      <td>0.018524</td>\n",
       "      <td>&lt;20</td>\n",
       "      <td>0.601852</td>\n",
       "      <td>0.560185</td>\n",
       "      <td>0.601010</td>\n",
       "      <td>0.615385</td>\n",
       "    </tr>\n",
       "    <tr>\n",
       "      <th>2796115</th>\n",
       "      <td>41.404862</td>\n",
       "      <td>2.174799</td>\n",
       "      <td>33.0</td>\n",
       "      <td>8025</td>\n",
       "      <td>2023</td>\n",
       "      <td>7</td>\n",
       "      <td>31</td>\n",
       "      <td>21</td>\n",
       "      <td>False</td>\n",
       "      <td>False</td>\n",
       "      <td>False</td>\n",
       "      <td>False</td>\n",
       "      <td>0.018524</td>\n",
       "      <td>&lt;20</td>\n",
       "      <td>0.419192</td>\n",
       "      <td>0.354701</td>\n",
       "      <td>0.384259</td>\n",
       "      <td>0.574074</td>\n",
       "    </tr>\n",
       "  </tbody>\n",
       "</table>\n",
       "<p>1510069 rows × 18 columns</p>\n",
       "</div>"
      ],
      "text/plain": [
       "               lat       lon  altitude post_code  year  month  day  hour  \\\n",
       "0        41.397978  2.180107      16.0      8013  2020      1    1     4   \n",
       "1        41.397978  2.180107      16.0      8013  2020      1    1     9   \n",
       "2        41.397978  2.180107      16.0      8013  2020      1    1    14   \n",
       "3        41.397978  2.180107      16.0      8013  2020      1    1    19   \n",
       "4        41.397978  2.180107      16.0      8013  2020      1    2     0   \n",
       "...            ...       ...       ...       ...   ...    ...  ...   ...   \n",
       "2796111  41.404862  2.174799      33.0      8025  2023      7   31     1   \n",
       "2796112  41.404862  2.174799      33.0      8025  2023      7   31     6   \n",
       "2796113  41.404862  2.174799      33.0      8025  2023      7   31    11   \n",
       "2796114  41.404862  2.174799      33.0      8025  2023      7   31    16   \n",
       "2796115  41.404862  2.174799      33.0      8025  2023      7   31    21   \n",
       "\n",
       "         is_holidays  calor  lluvia    dia  pl_distance capacity_category  \\\n",
       "0               True  False   False  False     0.014906               >40   \n",
       "1               True  False   False   True     0.014906               >40   \n",
       "2               True  False   False   True     0.014906               >40   \n",
       "3               True  False   False  False     0.014906               >40   \n",
       "4              False  False   False  False     0.014906               >40   \n",
       "...              ...    ...     ...    ...          ...               ...   \n",
       "2796111        False  False   False  False     0.018524               <20   \n",
       "2796112        False  False   False   True     0.018524               <20   \n",
       "2796113        False  False   False   True     0.018524               <20   \n",
       "2796114        False  False   False   True     0.018524               <20   \n",
       "2796115        False  False   False  False     0.018524               <20   \n",
       "\n",
       "            ctx-1     ctx-2     ctx-3     ctx-4  \n",
       "0        0.283333  0.346296  0.394444  0.459259  \n",
       "1        0.248148  0.235185  0.233333  0.298148  \n",
       "2        0.381481  0.385185  0.337037  0.342593  \n",
       "3        0.079630  0.177778  0.211111  0.244444  \n",
       "4        0.420370  0.450000  0.492593  0.418519  \n",
       "...           ...       ...       ...       ...  \n",
       "2796111  0.555556  0.585859  0.606838  0.370370  \n",
       "2796112  0.675926  0.657407  0.620370  0.611111  \n",
       "2796113  0.509259  0.486111  0.513889  0.560185  \n",
       "2796114  0.601852  0.560185  0.601010  0.615385  \n",
       "2796115  0.419192  0.354701  0.384259  0.574074  \n",
       "\n",
       "[1510069 rows x 18 columns]"
      ]
     },
     "execution_count": 25,
     "metadata": {},
     "output_type": "execute_result"
    }
   ],
   "source": [
    "x_train"
   ]
  },
  {
   "cell_type": "code",
   "execution_count": 27,
   "id": "5e4af222",
   "metadata": {},
   "outputs": [],
   "source": [
    "transformer = ColumnTransformer(\n",
    "    transformers=[\n",
    "        ('scaler', StandardScaler(), [\"pl_distance\", \n",
    "                                      \"altitude\", \n",
    "                                      \"lat\", \n",
    "                                      \"lon\"]),\n",
    "        ('onehot', OneHotEncoder(handle_unknown=\"ignore\", sparse_output=False), [\"post_code\",\n",
    "                                                                                 \"capacity_category\"]),\n",
    "        ('hour_econder', CyclicalEncoder(max_val=24), [\"hour\"]),\n",
    "        ('day_econder', CyclicalEncoder(max_val=31), [\"day\"]),\n",
    "    ],\n",
    "    remainder=\"passthrough\"\n",
    ")"
   ]
  },
  {
   "cell_type": "code",
   "execution_count": 28,
   "id": "5b84c86f",
   "metadata": {},
   "outputs": [],
   "source": [
    "x_train_ = transformer.fit_transform(x_train)\n",
    "x_validation_ = transformer.transform(x_validation)\n",
    "# metadata_ = transformer.transform(metadata)"
   ]
  },
  {
   "cell_type": "code",
   "execution_count": 29,
   "id": "3a7ec67d",
   "metadata": {},
   "outputs": [],
   "source": [
    "import xgboost as xgb\n",
    "from sklearn.metrics import mean_squared_error\n",
    "\n",
    "# Define the model\n",
    "model = xgb.XGBRegressor(objective ='reg:squarederror', n_estimators=1200, max_depth=8, eta=0.1, subsample=0.7)\n",
    "\n",
    "# Train the model\n",
    "model.fit(x_train_, y_train)\n",
    "\n",
    "# Make predictions\n",
    "y_pred = model.predict(x_validation_)\n",
    "\n",
    "# Evaluate the model\n",
    "mse = mean_squared_error(y_validation, y_pred, squared=False)"
   ]
  },
  {
   "cell_type": "code",
   "execution_count": 30,
   "id": "8c642ae3",
   "metadata": {},
   "outputs": [
    {
     "data": {
      "text/plain": [
       "0.09466895867754654"
      ]
     },
     "execution_count": 30,
     "metadata": {},
     "output_type": "execute_result"
    }
   ],
   "source": [
    "mse"
   ]
  },
  {
   "cell_type": "markdown",
   "id": "7d5f92f6",
   "metadata": {},
   "source": [
    "# PREDICTION"
   ]
  },
  {
   "cell_type": "code",
   "execution_count": 30,
   "id": "c687cc10",
   "metadata": {},
   "outputs": [],
   "source": [
    "y_pred = model.predict(metadata_)"
   ]
  },
  {
   "cell_type": "code",
   "execution_count": 31,
   "id": "5c7587f2",
   "metadata": {},
   "outputs": [],
   "source": [
    "submission= pd.DataFrame(y_pred,columns=[\"percentage_docks_available\"])"
   ]
  },
  {
   "cell_type": "code",
   "execution_count": 32,
   "id": "91b1a357",
   "metadata": {},
   "outputs": [],
   "source": [
    "submission[\"index\"] = metadata.index"
   ]
  },
  {
   "cell_type": "code",
   "execution_count": 33,
   "id": "667dcc0b",
   "metadata": {},
   "outputs": [],
   "source": [
    "submission[[\"index\",\"percentage_docks_available\"]].to_csv(\"submission_quim_2.csv\", index=False)"
   ]
  }
 ],
 "metadata": {
  "kernelspec": {
   "display_name": "Python 3 (ipykernel)",
   "language": "python",
   "name": "python3"
  },
  "language_info": {
   "codemirror_mode": {
    "name": "ipython",
    "version": 3
   },
   "file_extension": ".py",
   "mimetype": "text/x-python",
   "name": "python",
   "nbconvert_exporter": "python",
   "pygments_lexer": "ipython3",
   "version": "3.11.5"
  }
 },
 "nbformat": 4,
 "nbformat_minor": 5
}
