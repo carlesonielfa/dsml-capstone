{
 "cells": [
  {
   "cell_type": "code",
   "execution_count": 1,
   "id": "b9758275",
   "metadata": {},
   "outputs": [],
   "source": [
    "import numpy as np\n",
    "import pandas as pd\n",
    "from sklearn.base import BaseEstimator, TransformerMixin\n",
    "from sklearn.compose import ColumnTransformer\n",
    "from sklearn.preprocessing import OneHotEncoder\n",
    "from sklearn.preprocessing import StandardScaler"
   ]
  },
  {
   "cell_type": "code",
   "execution_count": 2,
   "id": "457a5584",
   "metadata": {},
   "outputs": [],
   "source": [
    "prediction_raw_data = pd.read_parquet(\"../data/prediction_raw_data.parquet\")"
   ]
  },
  {
   "cell_type": "code",
   "execution_count": 3,
   "id": "bb3644a5",
   "metadata": {},
   "outputs": [],
   "source": [
    "def capacity_category(df):\n",
    "    df = df.copy()\n",
    "    conditions = [\n",
    "        (df['capacity'] < 20),\n",
    "        (df['capacity'] >=20) & (df['capacity'] < 25),\n",
    "        (df['capacity'] >= 25) & (df['capacity'] < 30),\n",
    "        (df['capacity'] >= 30) & (df['capacity'] < 40),\n",
    "        (df['capacity'] >= 40)]\n",
    "\n",
    "    choices = ['<20', '20-25', '25-30', '30-40', '>40']\n",
    "\n",
    "\n",
    "    df['capacity_category'] = np.select(conditions, choices)\n",
    "    \n",
    "    return df\n",
    "    "
   ]
  },
  {
   "cell_type": "code",
   "execution_count": 4,
   "id": "f4a2a472",
   "metadata": {},
   "outputs": [],
   "source": [
    "prediction_raw_data = capacity_category(prediction_raw_data)"
   ]
  },
  {
   "cell_type": "code",
   "execution_count": 5,
   "id": "c2dcfa8c",
   "metadata": {},
   "outputs": [],
   "source": [
    "metadata = pd.read_csv(\"../data/metadata_sample_submission.csv\", index_col=[0])\n",
    "bank_holidays_bcn = pd.read_csv(\"../data/bank_holidays_bcn.csv\", index_col=[0], parse_dates=[\"holiday_date\"])\n",
    "station_information = pd.read_csv(\"../data/station_information.csv\")\n",
    "meteo_data = pd.read_csv(\"../data/valores_booleanos_meteo.csv\")"
   ]
  },
  {
   "cell_type": "code",
   "execution_count": 6,
   "id": "cbe5c964",
   "metadata": {},
   "outputs": [],
   "source": [
    "meteo_data['datetime'] = pd.to_datetime(meteo_data['data']).dt.strftime('%Y-%m-%d %H:%M:%S')\n",
    "meteo_data['datetime'] = pd.to_datetime(meteo_data['datetime'])\n",
    "meteo_data.drop(columns=\"data\", inplace=True)"
   ]
  },
  {
   "cell_type": "code",
   "execution_count": 7,
   "id": "55f8d3db",
   "metadata": {},
   "outputs": [],
   "source": [
    "# create year column\n",
    "metadata[\"year\"]=2024\n",
    "# transform station_id to int\n",
    "metadata[\"station_id\"]=metadata[\"station_id\"].astype(str)\n",
    "\n",
    "metadata[\"date\"]= pd.to_datetime(metadata[[\"year\",\"month\",\"day\"]])\n",
    "metadata[\"datetime\"]= pd.to_datetime(metadata[[\"year\",\"month\",\"day\",\"hour\"]])"
   ]
  },
  {
   "cell_type": "code",
   "execution_count": 8,
   "id": "cf9c945d",
   "metadata": {},
   "outputs": [],
   "source": [
    "metadata[\"is_holidays\"] = metadata[\"date\"].isin(bank_holidays_bcn[\"holiday_date\"])"
   ]
  },
  {
   "cell_type": "code",
   "execution_count": 9,
   "id": "52b6dfe4",
   "metadata": {},
   "outputs": [],
   "source": [
    "station_information[\"station_id\"] = station_information[\"station_id\"].astype(str)\n",
    "metadata =metadata.merge(station_information[[\"station_id\",\"lat\",\"lon\",\"post_code\",\"capacity\"]], on =\"station_id\", how=\"left\")"
   ]
  },
  {
   "cell_type": "code",
   "execution_count": 10,
   "id": "fba00702",
   "metadata": {},
   "outputs": [],
   "source": [
    "metadata = metadata.merge(meteo_data[[\"datetime\",\"calor\",\"lluvia\",\"dia\"]], on=\"datetime\", how=\"left\")"
   ]
  },
  {
   "cell_type": "code",
   "execution_count": 11,
   "id": "feadba3d",
   "metadata": {},
   "outputs": [],
   "source": [
    "metadata[\"calor\"] = metadata[\"calor\"].fillna(0).astype(bool)\n",
    "metadata[\"lluvia\"] = metadata[\"lluvia\"].fillna(0).astype(bool)\n",
    "metadata[\"dia\"] = metadata[\"dia\"].fillna(0).astype(bool)"
   ]
  },
  {
   "cell_type": "code",
   "execution_count": 12,
   "id": "f10af895",
   "metadata": {},
   "outputs": [],
   "source": [
    "metadata = capacity_category(metadata)"
   ]
  },
  {
   "cell_type": "markdown",
   "id": "ca0dd886",
   "metadata": {},
   "source": [
    "## Train"
   ]
  },
  {
   "cell_type": "code",
   "execution_count": 13,
   "id": "6d59d085",
   "metadata": {},
   "outputs": [
    {
     "name": "stderr",
     "output_type": "stream",
     "text": [
      "100%|████████████████████████████████████████████████████████████████████████████████| 399/399 [11:49<00:00,  1.78s/it]\n"
     ]
    }
   ],
   "source": [
    "from tqdm import tqdm\n",
    "prediction_data = pd.DataFrame()\n",
    "for s in tqdm(prediction_raw_data.station_id.unique()):\n",
    "    ctx = prediction_raw_data.loc[prediction_raw_data[\"station_id\"] == s, :]\n",
    "    ctx = ctx.sort_values(by=[\"year\", \"month\", \"day\", \"hour\"],\n",
    "                              ignore_index=True)\n",
    "    for lag in range(1, 5):\n",
    "        ctx.loc[:, f\"ctx-{lag}\"] = ctx.loc[:, \"percentage_docks_available\"].shift(lag)\n",
    "\n",
    "    ctx = ctx.iloc[4::5]\n",
    "\n",
    "    prediction_data = pd.concat([prediction_data, ctx], ignore_index=True)"
   ]
  },
  {
   "cell_type": "code",
   "execution_count": 14,
   "id": "322072c4",
   "metadata": {},
   "outputs": [],
   "source": [
    "prediction_data.drop(columns=[\"datetime\",\"date\",\"altitude\", \"num_docks_available\", \"capacity\"], inplace=True)"
   ]
  },
  {
   "cell_type": "code",
   "execution_count": 15,
   "id": "5d4db2ed",
   "metadata": {},
   "outputs": [],
   "source": [
    "prediction_data[\"station_id\"]= prediction_data[\"station_id\"].astype(str)\n",
    "prediction_data[\"post_code\"]= prediction_data[\"post_code\"].astype(str)"
   ]
  },
  {
   "cell_type": "code",
   "execution_count": 16,
   "id": "77d7590f",
   "metadata": {},
   "outputs": [],
   "source": [
    "prediction_data.dropna(subset=[\"percentage_docks_available\"], inplace=True)"
   ]
  },
  {
   "cell_type": "code",
   "execution_count": 17,
   "id": "0594d201",
   "metadata": {},
   "outputs": [],
   "source": [
    "prediction_data.dropna(subset=[\"ctx-1\",\"ctx-2\", \"ctx-3\", \"ctx-4\"],how=\"all\", inplace=True)"
   ]
  },
  {
   "cell_type": "code",
   "execution_count": 18,
   "id": "ac97f65b",
   "metadata": {},
   "outputs": [],
   "source": [
    "train = prediction_data[(prediction_data[\"year\"]<=2023) & (prediction_data[\"month\"]<8)]\n",
    "validation= prediction_data[(prediction_data[\"year\"]==2023) & (prediction_data[\"month\"]>=8)]"
   ]
  },
  {
   "cell_type": "code",
   "execution_count": 19,
   "id": "6944d822",
   "metadata": {},
   "outputs": [],
   "source": [
    "x_train = train.drop(columns=\"percentage_docks_available\")\n",
    "y_train = train[[\"percentage_docks_available\"]]\n",
    "\n",
    "\n",
    "x_validation = validation.drop(columns=\"percentage_docks_available\")\n",
    "y_validation = validation[[\"percentage_docks_available\"]]\n",
    "\n",
    "\n",
    "metadata=metadata[train.columns.drop([\"percentage_docks_available\"]).tolist()]\n",
    "metadata[\"post_code\"]= metadata[\"post_code\"].astype(str)"
   ]
  },
  {
   "cell_type": "code",
   "execution_count": 20,
   "id": "0506e8e1",
   "metadata": {},
   "outputs": [],
   "source": [
    "class CyclicalEncoder(BaseEstimator, TransformerMixin):\n",
    "    \n",
    "    def __init__(self, max_val):\n",
    "        self.max_val = max_val\n",
    "        \n",
    "    def fit(self, X, y=None):\n",
    "        return self\n",
    "    \n",
    "    def transform(self, X):\n",
    "        X = X.copy()\n",
    "        for column in X.columns:\n",
    "            X[column + \"_sin\"] = np.sin(2 * np.pi * X[column] / self.max_val)\n",
    "            X[column + \"_cos\"] = np.cos(2 * np.pi * X[column] / self.max_val)\n",
    "            X.drop(columns=column, inplace=True)\n",
    "        return X\n"
   ]
  },
  {
   "cell_type": "code",
   "execution_count": 21,
   "id": "5e4af222",
   "metadata": {},
   "outputs": [],
   "source": [
    "transformer = ColumnTransformer(\n",
    "    transformers=[\n",
    "        ('onehot', OneHotEncoder(handle_unknown=\"ignore\", sparse_output=False), [\"station_id\",\"post_code\",\"capacity_category\"]),\n",
    "        ('hour_econder', CyclicalEncoder(max_val=24), [\"hour\"]),\n",
    "        ('day_econder', CyclicalEncoder(max_val=31), [\"day\"]),\n",
    "    ],\n",
    "    remainder=\"passthrough\"\n",
    ")"
   ]
  },
  {
   "cell_type": "code",
   "execution_count": 22,
   "id": "5b84c86f",
   "metadata": {},
   "outputs": [],
   "source": [
    "x_train_ = transformer.fit_transform(x_train)\n",
    "x_validation_ = transformer.transform(x_validation)\n",
    "metadata_ = transformer.transform(metadata)"
   ]
  },
  {
   "cell_type": "code",
   "execution_count": 23,
   "id": "3a7ec67d",
   "metadata": {},
   "outputs": [],
   "source": [
    "import xgboost as xgb\n",
    "from sklearn.metrics import mean_squared_error\n",
    "\n",
    "# Define the model\n",
    "model = xgb.XGBRegressor(objective ='reg:squarederror', n_estimators=100, max_depth=7, eta=0.1, subsample=0.7)\n",
    "\n",
    "# Train the model\n",
    "model.fit(x_train_, y_train)\n",
    "\n",
    "# Make predictions\n",
    "y_pred = model.predict(x_validation_)\n",
    "\n",
    "# Evaluate the model\n",
    "mse = mean_squared_error(y_validation, y_pred, squared=False)"
   ]
  },
  {
   "cell_type": "code",
   "execution_count": 24,
   "id": "8c642ae3",
   "metadata": {},
   "outputs": [
    {
     "data": {
      "text/plain": [
       "0.09572475326577472"
      ]
     },
     "execution_count": 24,
     "metadata": {},
     "output_type": "execute_result"
    }
   ],
   "source": [
    "mse"
   ]
  },
  {
   "cell_type": "markdown",
   "id": "7d5f92f6",
   "metadata": {},
   "source": [
    "# PREDICTION"
   ]
  },
  {
   "cell_type": "code",
   "execution_count": 25,
   "id": "c687cc10",
   "metadata": {},
   "outputs": [],
   "source": [
    "y_pred = model.predict(metadata_)"
   ]
  },
  {
   "cell_type": "code",
   "execution_count": 26,
   "id": "5c7587f2",
   "metadata": {},
   "outputs": [],
   "source": [
    "submission= pd.DataFrame(y_pred,columns=[\"percentage_docks_available\"])"
   ]
  },
  {
   "cell_type": "code",
   "execution_count": 27,
   "id": "91b1a357",
   "metadata": {},
   "outputs": [],
   "source": [
    "submission[\"index\"] = metadata.index"
   ]
  },
  {
   "cell_type": "code",
   "execution_count": 29,
   "id": "667dcc0b",
   "metadata": {},
   "outputs": [],
   "source": [
    "submission[[\"index\",\"percentage_docks_available\"]].to_csv(\"submission_quim_2.csv\", index=False)"
   ]
  }
 ],
 "metadata": {
  "kernelspec": {
   "display_name": "Python 3 (ipykernel)",
   "language": "python",
   "name": "python3"
  },
  "language_info": {
   "codemirror_mode": {
    "name": "ipython",
    "version": 3
   },
   "file_extension": ".py",
   "mimetype": "text/x-python",
   "name": "python",
   "nbconvert_exporter": "python",
   "pygments_lexer": "ipython3",
   "version": "3.11.5"
  }
 },
 "nbformat": 4,
 "nbformat_minor": 5
}
