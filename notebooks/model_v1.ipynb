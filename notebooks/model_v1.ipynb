{
 "cells": [
  {
   "cell_type": "code",
   "execution_count": 1,
   "id": "4e84de98",
   "metadata": {},
   "outputs": [],
   "source": [
    "import numpy as np\n",
    "import pandas as pd\n",
    "from sklearn.base import BaseEstimator, TransformerMixin\n",
    "from sklearn.compose import ColumnTransformer\n",
    "from sklearn.preprocessing import OneHotEncoder"
   ]
  },
  {
   "cell_type": "code",
   "execution_count": 2,
   "id": "340fe3c5",
   "metadata": {},
   "outputs": [],
   "source": [
    "prediction_raw_data = pd.read_parquet(\"../data/prediction_raw_data.parquet\")"
   ]
  },
  {
   "cell_type": "code",
   "execution_count": 3,
   "id": "ce381b53",
   "metadata": {},
   "outputs": [],
   "source": [
    "metadata = pd.read_csv(\"../data/metadata_sample_submission.csv\", index_col=[0])\n",
    "bank_holidays_bcn = pd.read_csv(\"../data/bank_holidays_bcn.csv\", index_col=[0], parse_dates=[\"holiday_date\"])\n",
    "station_information = pd.read_csv(\"../data/station_information.csv\")\n",
    "meteo_data = pd.read_csv(\"../data/valores_booleanos_meteo.csv\")"
   ]
  },
  {
   "cell_type": "code",
   "execution_count": 4,
   "id": "14384718",
   "metadata": {},
   "outputs": [],
   "source": [
    "meteo_data['datetime'] = pd.to_datetime(meteo_data['data']).dt.strftime('%Y-%m-%d %H:%M:%S')\n",
    "meteo_data['datetime'] = pd.to_datetime(meteo_data['datetime'])\n",
    "meteo_data.drop(columns=\"data\", inplace=True)"
   ]
  },
  {
   "cell_type": "code",
   "execution_count": 5,
   "id": "b69d0df3",
   "metadata": {},
   "outputs": [],
   "source": [
    "# create year column\n",
    "metadata[\"year\"]=2024\n",
    "# transform station_id to int\n",
    "metadata[\"station_id\"]=metadata[\"station_id\"].astype(str)\n",
    "\n",
    "metadata[\"date\"]= pd.to_datetime(metadata[[\"year\",\"month\",\"day\"]])\n",
    "metadata[\"datetime\"]= pd.to_datetime(metadata[[\"year\",\"month\",\"day\",\"hour\"]])"
   ]
  },
  {
   "cell_type": "code",
   "execution_count": 6,
   "id": "559b64bb",
   "metadata": {},
   "outputs": [],
   "source": [
    "metadata[\"is_holidays\"] = metadata[\"date\"].isin(bank_holidays_bcn[\"holiday_date\"])"
   ]
  },
  {
   "cell_type": "code",
   "execution_count": 7,
   "id": "4c43f491",
   "metadata": {},
   "outputs": [],
   "source": [
    "station_information[\"station_id\"] = station_information[\"station_id\"].astype(str)\n",
    "metadata =metadata.merge(station_information[[\"station_id\",\"lat\",\"lon\",\"post_code\",\"capacity\"]], on =\"station_id\", how=\"left\")"
   ]
  },
  {
   "cell_type": "code",
   "execution_count": 8,
   "id": "bf406023",
   "metadata": {},
   "outputs": [],
   "source": [
    "metadata = metadata.merge(meteo_data[[\"datetime\",\"calor\",\"lluvia\"]], on=\"datetime\", how=\"left\")"
   ]
  },
  {
   "cell_type": "code",
   "execution_count": 9,
   "id": "aeefb625",
   "metadata": {},
   "outputs": [],
   "source": [
    "metadata[\"calor\"] = metadata[\"calor\"].fillna(0).astype(bool)\n",
    "metadata[\"lluvia\"] = metadata[\"lluvia\"].fillna(0).astype(bool)"
   ]
  },
  {
   "cell_type": "markdown",
   "id": "61128820",
   "metadata": {},
   "source": [
    "## Train"
   ]
  },
  {
   "cell_type": "code",
   "execution_count": 10,
   "id": "de0e5468",
   "metadata": {},
   "outputs": [
    {
     "data": {
      "text/html": [
       "<div>\n",
       "<style scoped>\n",
       "    .dataframe tbody tr th:only-of-type {\n",
       "        vertical-align: middle;\n",
       "    }\n",
       "\n",
       "    .dataframe tbody tr th {\n",
       "        vertical-align: top;\n",
       "    }\n",
       "\n",
       "    .dataframe thead th {\n",
       "        text-align: right;\n",
       "    }\n",
       "</style>\n",
       "<table border=\"1\" class=\"dataframe\">\n",
       "  <thead>\n",
       "    <tr style=\"text-align: right;\">\n",
       "      <th></th>\n",
       "      <th>station_id</th>\n",
       "      <th>lat</th>\n",
       "      <th>lon</th>\n",
       "      <th>altitude</th>\n",
       "      <th>post_code</th>\n",
       "      <th>year</th>\n",
       "      <th>month</th>\n",
       "      <th>day</th>\n",
       "      <th>hour</th>\n",
       "      <th>num_docks_available</th>\n",
       "      <th>capacity</th>\n",
       "      <th>percentage_docks_available</th>\n",
       "      <th>datetime</th>\n",
       "      <th>date</th>\n",
       "      <th>is_holidays</th>\n",
       "      <th>calor</th>\n",
       "      <th>lluvia</th>\n",
       "    </tr>\n",
       "  </thead>\n",
       "  <tbody>\n",
       "    <tr>\n",
       "      <th>0</th>\n",
       "      <td>1</td>\n",
       "      <td>41.397978</td>\n",
       "      <td>2.180107</td>\n",
       "      <td>16.0</td>\n",
       "      <td>8013</td>\n",
       "      <td>2020</td>\n",
       "      <td>1</td>\n",
       "      <td>1</td>\n",
       "      <td>0</td>\n",
       "      <td>20.666667</td>\n",
       "      <td>45</td>\n",
       "      <td>0.459259</td>\n",
       "      <td>2020-01-01</td>\n",
       "      <td>2020-01-01</td>\n",
       "      <td>True</td>\n",
       "      <td>False</td>\n",
       "      <td>False</td>\n",
       "    </tr>\n",
       "    <tr>\n",
       "      <th>1</th>\n",
       "      <td>1</td>\n",
       "      <td>41.397978</td>\n",
       "      <td>2.180107</td>\n",
       "      <td>16.0</td>\n",
       "      <td>8013</td>\n",
       "      <td>2020</td>\n",
       "      <td>1</td>\n",
       "      <td>2</td>\n",
       "      <td>0</td>\n",
       "      <td>17.416667</td>\n",
       "      <td>45</td>\n",
       "      <td>0.387037</td>\n",
       "      <td>2020-01-02</td>\n",
       "      <td>2020-01-02</td>\n",
       "      <td>False</td>\n",
       "      <td>False</td>\n",
       "      <td>False</td>\n",
       "    </tr>\n",
       "    <tr>\n",
       "      <th>2</th>\n",
       "      <td>1</td>\n",
       "      <td>41.397978</td>\n",
       "      <td>2.180107</td>\n",
       "      <td>16.0</td>\n",
       "      <td>8013</td>\n",
       "      <td>2020</td>\n",
       "      <td>1</td>\n",
       "      <td>3</td>\n",
       "      <td>0</td>\n",
       "      <td>3.583333</td>\n",
       "      <td>45</td>\n",
       "      <td>0.079630</td>\n",
       "      <td>2020-01-03</td>\n",
       "      <td>2020-01-03</td>\n",
       "      <td>False</td>\n",
       "      <td>False</td>\n",
       "      <td>False</td>\n",
       "    </tr>\n",
       "    <tr>\n",
       "      <th>3</th>\n",
       "      <td>1</td>\n",
       "      <td>41.397978</td>\n",
       "      <td>2.180107</td>\n",
       "      <td>16.0</td>\n",
       "      <td>8013</td>\n",
       "      <td>2020</td>\n",
       "      <td>1</td>\n",
       "      <td>4</td>\n",
       "      <td>0</td>\n",
       "      <td>33.230769</td>\n",
       "      <td>45</td>\n",
       "      <td>0.738462</td>\n",
       "      <td>2020-01-04</td>\n",
       "      <td>2020-01-04</td>\n",
       "      <td>False</td>\n",
       "      <td>False</td>\n",
       "      <td>False</td>\n",
       "    </tr>\n",
       "    <tr>\n",
       "      <th>4</th>\n",
       "      <td>1</td>\n",
       "      <td>41.397978</td>\n",
       "      <td>2.180107</td>\n",
       "      <td>16.0</td>\n",
       "      <td>8013</td>\n",
       "      <td>2020</td>\n",
       "      <td>1</td>\n",
       "      <td>5</td>\n",
       "      <td>0</td>\n",
       "      <td>27.250000</td>\n",
       "      <td>45</td>\n",
       "      <td>0.605556</td>\n",
       "      <td>2020-01-05</td>\n",
       "      <td>2020-01-05</td>\n",
       "      <td>False</td>\n",
       "      <td>False</td>\n",
       "      <td>False</td>\n",
       "    </tr>\n",
       "  </tbody>\n",
       "</table>\n",
       "</div>"
      ],
      "text/plain": [
       "  station_id        lat       lon  altitude post_code  year  month  day  hour  \\\n",
       "0          1  41.397978  2.180107      16.0      8013  2020      1    1     0   \n",
       "1          1  41.397978  2.180107      16.0      8013  2020      1    2     0   \n",
       "2          1  41.397978  2.180107      16.0      8013  2020      1    3     0   \n",
       "3          1  41.397978  2.180107      16.0      8013  2020      1    4     0   \n",
       "4          1  41.397978  2.180107      16.0      8013  2020      1    5     0   \n",
       "\n",
       "   num_docks_available  capacity  percentage_docks_available   datetime  \\\n",
       "0            20.666667        45                    0.459259 2020-01-01   \n",
       "1            17.416667        45                    0.387037 2020-01-02   \n",
       "2             3.583333        45                    0.079630 2020-01-03   \n",
       "3            33.230769        45                    0.738462 2020-01-04   \n",
       "4            27.250000        45                    0.605556 2020-01-05   \n",
       "\n",
       "         date  is_holidays  calor  lluvia  \n",
       "0  2020-01-01         True  False   False  \n",
       "1  2020-01-02        False  False   False  \n",
       "2  2020-01-03        False  False   False  \n",
       "3  2020-01-04        False  False   False  \n",
       "4  2020-01-05        False  False   False  "
      ]
     },
     "execution_count": 10,
     "metadata": {},
     "output_type": "execute_result"
    }
   ],
   "source": [
    "prediction_raw_data.head()"
   ]
  },
  {
   "cell_type": "code",
   "execution_count": null,
   "id": "3439cfc0",
   "metadata": {},
   "outputs": [
    {
     "name": "stderr",
     "output_type": "stream",
     "text": [
      " 89%|██████████████████████████████████████████████████████████████████████▉         | 354/399 [04:09<00:34,  1.32it/s]"
     ]
    }
   ],
   "source": [
    "from tqdm import tqdm\n",
    "prediction_data = pd.DataFrame()\n",
    "for s in tqdm(prediction_raw_data.station_id.unique()):\n",
    "    ctx = prediction_raw_data.loc[prediction_raw_data[\"station_id\"] == s, :]\n",
    "    ctx = ctx.sort_values(by=[\"year\", \"month\", \"day\", \"hour\"],\n",
    "                              ignore_index=True)\n",
    "    for lag in range(1, 5):\n",
    "        ctx.loc[:, f\"ctx-{lag}\"] = ctx.loc[:, \"percentage_docks_available\"].shift(lag)\n",
    "\n",
    "    ctx = ctx.iloc[4::5]\n",
    "\n",
    "    prediction_data = pd.concat([prediction_data, ctx], ignore_index=True)"
   ]
  },
  {
   "cell_type": "code",
   "execution_count": null,
   "id": "209a7237",
   "metadata": {},
   "outputs": [],
   "source": [
    "prediction_data.drop(columns=[\"datetime\",\"date\",\"altitude\", \"num_docks_available\"], inplace=True)"
   ]
  },
  {
   "cell_type": "code",
   "execution_count": null,
   "id": "83469ab3",
   "metadata": {},
   "outputs": [],
   "source": [
    "prediction_data[\"station_id\"]= prediction_data[\"station_id\"].astype(str)\n",
    "prediction_data[\"post_code\"]= prediction_data[\"post_code\"].astype(str)"
   ]
  },
  {
   "cell_type": "code",
   "execution_count": null,
   "id": "7e0858c5",
   "metadata": {},
   "outputs": [],
   "source": [
    "prediction_data.dropna(subset=[\"percentage_docks_available\"], inplace=True)"
   ]
  },
  {
   "cell_type": "code",
   "execution_count": null,
   "id": "75c57362",
   "metadata": {},
   "outputs": [],
   "source": [
    "prediction_data.dropna(subset=[\"ctx-1\",\"ctx-2\", \"ctx-3\", \"ctx-4\"],how=\"all\", inplace=True)"
   ]
  },
  {
   "cell_type": "code",
   "execution_count": null,
   "id": "23462d6e",
   "metadata": {},
   "outputs": [],
   "source": [
    "train = prediction_data[(prediction_data[\"year\"]<=2023) & (prediction_data[\"month\"]<8)]\n",
    "validation= prediction_data[(prediction_data[\"year\"]==2023) & (prediction_data[\"month\"]>=8)]"
   ]
  },
  {
   "cell_type": "code",
   "execution_count": null,
   "id": "0a2193ba",
   "metadata": {},
   "outputs": [],
   "source": [
    "metadata[train.columns.drop('percentage_docks_available').tolist()]"
   ]
  },
  {
   "cell_type": "code",
   "execution_count": null,
   "id": "c34c62b5",
   "metadata": {},
   "outputs": [],
   "source": [
    "x_train = train.drop(columns=\"percentage_docks_available\")\n",
    "y_train = train[[\"percentage_docks_available\"]]\n",
    "\n",
    "\n",
    "x_validation = validation.drop(columns=\"percentage_docks_available\")\n",
    "y_validation = validation[[\"percentage_docks_available\"]]"
   ]
  },
  {
   "cell_type": "code",
   "execution_count": null,
   "id": "d0fedfd3",
   "metadata": {},
   "outputs": [],
   "source": [
    "class CyclicalEncoder(BaseEstimator, TransformerMixin):\n",
    "    \n",
    "    def __init__(self, max_val):\n",
    "        self.max_val = max_val\n",
    "        \n",
    "    def fit(self, X, y=None):\n",
    "        return self\n",
    "    \n",
    "    def transform(self, X):\n",
    "        X = X.copy()\n",
    "        for column in X.columns:\n",
    "            X[column + \"_sin\"] = np.sin(2 * np.pi * X[column] / self.max_val)\n",
    "            X[column + \"_cos\"] = np.cos(2 * np.pi * X[column] / self.max_val)\n",
    "            X.drop(columns=column, inplace=True)\n",
    "        return X\n"
   ]
  },
  {
   "cell_type": "code",
   "execution_count": null,
   "id": "0400367b",
   "metadata": {},
   "outputs": [],
   "source": [
    "transformer = ColumnTransformer(\n",
    "    transformers=[\n",
    "        ('onehot', OneHotEncoder(handle_unknown=\"ignore\", sparse_output=False), [\"station_id\", \"post_code\"]),\n",
    "        ('hour_econder', CyclicalEncoder(max_val=24), [\"hour\"]),\n",
    "        ('day_econder', CyclicalEncoder(max_val=31), [\"day\"]),\n",
    "        \n",
    "    ],\n",
    "    remainder=\"passthrough\"\n",
    ")"
   ]
  },
  {
   "cell_type": "code",
   "execution_count": null,
   "id": "8becf1a3",
   "metadata": {},
   "outputs": [],
   "source": [
    "x_train = transformer.fit_transform(x_train)\n",
    "x_validation = transformer.transform(x_validation)"
   ]
  },
  {
   "cell_type": "code",
   "execution_count": null,
   "id": "e43aebbc",
   "metadata": {},
   "outputs": [],
   "source": [
    "import xgboost as xgb\n",
    "from sklearn.metrics import mean_squared_error\n",
    "\n",
    "# Define the model\n",
    "model = xgb.XGBRegressor(objective ='reg:squarederror', n_estimators=100, max_depth=7, eta=0.1, subsample=0.7, colsample_bytree=0.8)\n",
    "\n",
    "# Train the model\n",
    "model.fit(x_train, y_train)\n",
    "\n",
    "# Make predictions\n",
    "y_pred = model.predict(x_validation)\n",
    "\n",
    "# Evaluate the model\n",
    "mse = mean_squared_error(y_validation, y_pred, squared=False)"
   ]
  },
  {
   "cell_type": "code",
   "execution_count": null,
   "id": "c4d6ddd0",
   "metadata": {},
   "outputs": [],
   "source": [
    "mse"
   ]
  },
  {
   "cell_type": "code",
   "execution_count": null,
   "id": "4ab68d2a",
   "metadata": {},
   "outputs": [],
   "source": []
  }
 ],
 "metadata": {
  "kernelspec": {
   "display_name": "Python 3 (ipykernel)",
   "language": "python",
   "name": "python3"
  },
  "language_info": {
   "codemirror_mode": {
    "name": "ipython",
    "version": 3
   },
   "file_extension": ".py",
   "mimetype": "text/x-python",
   "name": "python",
   "nbconvert_exporter": "python",
   "pygments_lexer": "ipython3",
   "version": "3.11.5"
  }
 },
 "nbformat": 4,
 "nbformat_minor": 5
}
